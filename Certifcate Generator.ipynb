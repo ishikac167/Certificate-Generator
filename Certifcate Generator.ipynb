{
 "cells": [
  {
   "cell_type": "code",
   "execution_count": 3,
   "metadata": {},
   "outputs": [],
   "source": [
    "from PIL import Image, ImageFont, ImageDraw \n",
    "import pandas as pd\n",
    "data = pd.read_excel('Certificate Names.xlsx')\n",
    "name_list = data[\"Name\"].tolist()\n",
    "\n",
    "# Getting the name in the center\n",
    "\n",
    "for i in name_list:\n",
    "    im = Image.open('temp-cert.png')\n",
    "    text = i\n",
    "    font = ImageFont.truetype(r\"GreatVibes.ttf\", 150)\n",
    "    W,H = im.size \n",
    "    w,h = font.getsize(text)\n",
    "    width = ((W-w)/2)\n",
    "    height = ((H-h)/2)-10\n",
    "    d = ImageDraw.Draw(im)\n",
    "    d.text((width,height), i, (206, 74, 171), font=font)              \n",
    "    im.save(\"certificate_\" + i + \".png\")"
   ]
  },
  {
   "cell_type": "code",
   "execution_count": null,
   "metadata": {},
   "outputs": [],
   "source": []
  }
 ],
 "metadata": {
  "kernelspec": {
   "display_name": "Python 3",
   "language": "python",
   "name": "python3"
  },
  "language_info": {
   "codemirror_mode": {
    "name": "ipython",
    "version": 3
   },
   "file_extension": ".py",
   "mimetype": "text/x-python",
   "name": "python",
   "nbconvert_exporter": "python",
   "pygments_lexer": "ipython3",
   "version": "3.8.8"
  }
 },
 "nbformat": 4,
 "nbformat_minor": 2
}
